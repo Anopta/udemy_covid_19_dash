{
 "metadata": {
  "language_info": {
   "codemirror_mode": {
    "name": "ipython",
    "version": 3
   },
   "file_extension": ".py",
   "mimetype": "text/x-python",
   "name": "python",
   "nbconvert_exporter": "python",
   "pygments_lexer": "ipython3",
   "version": "3.9.2-final"
  },
  "orig_nbformat": 2,
  "kernelspec": {
   "name": "python3",
   "display_name": "Python 3.9.2 64-bit",
   "metadata": {
    "interpreter": {
     "hash": "4968616242b12205732e0bb9392dd184d3a0818a6aa7d3a096f6e3a74afccf42"
    }
   }
  }
 },
 "nbformat": 4,
 "nbformat_minor": 2,
 "cells": [
  {
   "cell_type": "code",
   "execution_count": 3,
   "metadata": {},
   "outputs": [],
   "source": [
    "import pandas as pd"
   ]
  },
  {
   "source": [
    "## Confirmed cases"
   ],
   "cell_type": "markdown",
   "metadata": {}
  },
  {
   "cell_type": "code",
   "execution_count": 4,
   "metadata": {},
   "outputs": [
    {
     "output_type": "execute_result",
     "data": {
      "text/plain": [
       "  Province/State Country/Region       Lat       Long  1/22/20  1/23/20  \\\n",
       "0            NaN    Afghanistan  33.93911  67.709953        0        0   \n",
       "1            NaN        Albania  41.15330  20.168300        0        0   \n",
       "2            NaN        Algeria  28.03390   1.659600        0        0   \n",
       "3            NaN        Andorra  42.50630   1.521800        0        0   \n",
       "4            NaN         Angola -11.20270  17.873900        0        0   \n",
       "\n",
       "   1/24/20  1/25/20  1/26/20  1/27/20  ...  2/15/21  2/16/21  2/17/21  \\\n",
       "0        0        0        0        0  ...    55514    55518    55540   \n",
       "1        0        0        0        0  ...    93850    94651    95726   \n",
       "2        0        0        0        0  ...   110894   111069   111247   \n",
       "3        0        0        0        0  ...    10538    10555    10583   \n",
       "4        0        0        0        0  ...    20381    20389    20400   \n",
       "\n",
       "   2/18/21  2/19/21  2/20/21  2/21/21  2/22/21  2/23/21  2/24/21  \n",
       "0    55557    55575    55580    55604    55617    55646    55664  \n",
       "1    96838    97909    99062   100246   101285   102306   103327  \n",
       "2   111418   111600   111764   111917   112094   112279   112461  \n",
       "3    10610    10645    10672    10699    10712    10739    10775  \n",
       "4    20452    20478    20499    20519    20548    20584    20640  \n",
       "\n",
       "[5 rows x 404 columns]"
      ],
      "text/html": "<div>\n<style scoped>\n    .dataframe tbody tr th:only-of-type {\n        vertical-align: middle;\n    }\n\n    .dataframe tbody tr th {\n        vertical-align: top;\n    }\n\n    .dataframe thead th {\n        text-align: right;\n    }\n</style>\n<table border=\"1\" class=\"dataframe\">\n  <thead>\n    <tr style=\"text-align: right;\">\n      <th></th>\n      <th>Province/State</th>\n      <th>Country/Region</th>\n      <th>Lat</th>\n      <th>Long</th>\n      <th>1/22/20</th>\n      <th>1/23/20</th>\n      <th>1/24/20</th>\n      <th>1/25/20</th>\n      <th>1/26/20</th>\n      <th>1/27/20</th>\n      <th>...</th>\n      <th>2/15/21</th>\n      <th>2/16/21</th>\n      <th>2/17/21</th>\n      <th>2/18/21</th>\n      <th>2/19/21</th>\n      <th>2/20/21</th>\n      <th>2/21/21</th>\n      <th>2/22/21</th>\n      <th>2/23/21</th>\n      <th>2/24/21</th>\n    </tr>\n  </thead>\n  <tbody>\n    <tr>\n      <th>0</th>\n      <td>NaN</td>\n      <td>Afghanistan</td>\n      <td>33.93911</td>\n      <td>67.709953</td>\n      <td>0</td>\n      <td>0</td>\n      <td>0</td>\n      <td>0</td>\n      <td>0</td>\n      <td>0</td>\n      <td>...</td>\n      <td>55514</td>\n      <td>55518</td>\n      <td>55540</td>\n      <td>55557</td>\n      <td>55575</td>\n      <td>55580</td>\n      <td>55604</td>\n      <td>55617</td>\n      <td>55646</td>\n      <td>55664</td>\n    </tr>\n    <tr>\n      <th>1</th>\n      <td>NaN</td>\n      <td>Albania</td>\n      <td>41.15330</td>\n      <td>20.168300</td>\n      <td>0</td>\n      <td>0</td>\n      <td>0</td>\n      <td>0</td>\n      <td>0</td>\n      <td>0</td>\n      <td>...</td>\n      <td>93850</td>\n      <td>94651</td>\n      <td>95726</td>\n      <td>96838</td>\n      <td>97909</td>\n      <td>99062</td>\n      <td>100246</td>\n      <td>101285</td>\n      <td>102306</td>\n      <td>103327</td>\n    </tr>\n    <tr>\n      <th>2</th>\n      <td>NaN</td>\n      <td>Algeria</td>\n      <td>28.03390</td>\n      <td>1.659600</td>\n      <td>0</td>\n      <td>0</td>\n      <td>0</td>\n      <td>0</td>\n      <td>0</td>\n      <td>0</td>\n      <td>...</td>\n      <td>110894</td>\n      <td>111069</td>\n      <td>111247</td>\n      <td>111418</td>\n      <td>111600</td>\n      <td>111764</td>\n      <td>111917</td>\n      <td>112094</td>\n      <td>112279</td>\n      <td>112461</td>\n    </tr>\n    <tr>\n      <th>3</th>\n      <td>NaN</td>\n      <td>Andorra</td>\n      <td>42.50630</td>\n      <td>1.521800</td>\n      <td>0</td>\n      <td>0</td>\n      <td>0</td>\n      <td>0</td>\n      <td>0</td>\n      <td>0</td>\n      <td>...</td>\n      <td>10538</td>\n      <td>10555</td>\n      <td>10583</td>\n      <td>10610</td>\n      <td>10645</td>\n      <td>10672</td>\n      <td>10699</td>\n      <td>10712</td>\n      <td>10739</td>\n      <td>10775</td>\n    </tr>\n    <tr>\n      <th>4</th>\n      <td>NaN</td>\n      <td>Angola</td>\n      <td>-11.20270</td>\n      <td>17.873900</td>\n      <td>0</td>\n      <td>0</td>\n      <td>0</td>\n      <td>0</td>\n      <td>0</td>\n      <td>0</td>\n      <td>...</td>\n      <td>20381</td>\n      <td>20389</td>\n      <td>20400</td>\n      <td>20452</td>\n      <td>20478</td>\n      <td>20499</td>\n      <td>20519</td>\n      <td>20548</td>\n      <td>20584</td>\n      <td>20640</td>\n    </tr>\n  </tbody>\n</table>\n<p>5 rows × 404 columns</p>\n</div>"
     },
     "metadata": {},
     "execution_count": 4
    }
   ],
   "source": [
    "url_confirmed = \"https://raw.githubusercontent.com/CSSEGISandData/COVID-19/master/csse_covid_19_data/csse_covid_19_time_series/time_series_covid19_confirmed_global.csv\"\n",
    "confirmed = pd.read_csv(url_confirmed)\n",
    "confirmed.head()"
   ]
  },
  {
   "cell_type": "code",
   "execution_count": 5,
   "metadata": {},
   "outputs": [
    {
     "output_type": "execute_result",
     "data": {
      "text/plain": [
       "  Province/State Country/Region       Lat       Long     date  confirmed\n",
       "0            NaN    Afghanistan  33.93911  67.709953  1/22/20          0\n",
       "1            NaN        Albania  41.15330  20.168300  1/22/20          0\n",
       "2            NaN        Algeria  28.03390   1.659600  1/22/20          0\n",
       "3            NaN        Andorra  42.50630   1.521800  1/22/20          0\n",
       "4            NaN         Angola -11.20270  17.873900  1/22/20          0"
      ],
      "text/html": "<div>\n<style scoped>\n    .dataframe tbody tr th:only-of-type {\n        vertical-align: middle;\n    }\n\n    .dataframe tbody tr th {\n        vertical-align: top;\n    }\n\n    .dataframe thead th {\n        text-align: right;\n    }\n</style>\n<table border=\"1\" class=\"dataframe\">\n  <thead>\n    <tr style=\"text-align: right;\">\n      <th></th>\n      <th>Province/State</th>\n      <th>Country/Region</th>\n      <th>Lat</th>\n      <th>Long</th>\n      <th>date</th>\n      <th>confirmed</th>\n    </tr>\n  </thead>\n  <tbody>\n    <tr>\n      <th>0</th>\n      <td>NaN</td>\n      <td>Afghanistan</td>\n      <td>33.93911</td>\n      <td>67.709953</td>\n      <td>1/22/20</td>\n      <td>0</td>\n    </tr>\n    <tr>\n      <th>1</th>\n      <td>NaN</td>\n      <td>Albania</td>\n      <td>41.15330</td>\n      <td>20.168300</td>\n      <td>1/22/20</td>\n      <td>0</td>\n    </tr>\n    <tr>\n      <th>2</th>\n      <td>NaN</td>\n      <td>Algeria</td>\n      <td>28.03390</td>\n      <td>1.659600</td>\n      <td>1/22/20</td>\n      <td>0</td>\n    </tr>\n    <tr>\n      <th>3</th>\n      <td>NaN</td>\n      <td>Andorra</td>\n      <td>42.50630</td>\n      <td>1.521800</td>\n      <td>1/22/20</td>\n      <td>0</td>\n    </tr>\n    <tr>\n      <th>4</th>\n      <td>NaN</td>\n      <td>Angola</td>\n      <td>-11.20270</td>\n      <td>17.873900</td>\n      <td>1/22/20</td>\n      <td>0</td>\n    </tr>\n  </tbody>\n</table>\n</div>"
     },
     "metadata": {},
     "execution_count": 5
    }
   ],
   "source": [
    "total_confirmed = confirmed.melt(\n",
    "    id_vars = [\"Province/State\", \"Country/Region\", \"Lat\", \"Long\"],\n",
    "    value_vars = confirmed.columns[4:],\n",
    "    var_name = \"date\",\n",
    "    value_name = \"confirmed\"\n",
    ")\n",
    "total_confirmed.head()"
   ]
  },
  {
   "source": [
    "## Deaths"
   ],
   "cell_type": "markdown",
   "metadata": {}
  },
  {
   "cell_type": "code",
   "execution_count": 6,
   "metadata": {},
   "outputs": [
    {
     "output_type": "execute_result",
     "data": {
      "text/plain": [
       "  Province/State Country/Region       Lat       Long  1/22/20  1/23/20  \\\n",
       "0            NaN    Afghanistan  33.93911  67.709953        0        0   \n",
       "1            NaN        Albania  41.15330  20.168300        0        0   \n",
       "2            NaN        Algeria  28.03390   1.659600        0        0   \n",
       "3            NaN        Andorra  42.50630   1.521800        0        0   \n",
       "4            NaN         Angola -11.20270  17.873900        0        0   \n",
       "\n",
       "   1/24/20  1/25/20  1/26/20  1/27/20  ...  2/15/21  2/16/21  2/17/21  \\\n",
       "0        0        0        0        0  ...     2427     2428     2428   \n",
       "1        0        0        0        0  ...     1567     1582     1600   \n",
       "2        0        0        0        0  ...     2943     2945     2947   \n",
       "3        0        0        0        0  ...      107      107      107   \n",
       "4        0        0        0        0  ...      493      494      496   \n",
       "\n",
       "   2/18/21  2/19/21  2/20/21  2/21/21  2/22/21  2/23/21  2/24/21  \n",
       "0     2430     2430     2430     2432     2433     2435     2436  \n",
       "1     1617     1636     1653     1666     1681     1696     1715  \n",
       "2     2950     2954     2958     2961     2964     2967     2970  \n",
       "3      107      107      107      107      109      110      110  \n",
       "4      498      498      498      499      499      500      501  \n",
       "\n",
       "[5 rows x 404 columns]"
      ],
      "text/html": "<div>\n<style scoped>\n    .dataframe tbody tr th:only-of-type {\n        vertical-align: middle;\n    }\n\n    .dataframe tbody tr th {\n        vertical-align: top;\n    }\n\n    .dataframe thead th {\n        text-align: right;\n    }\n</style>\n<table border=\"1\" class=\"dataframe\">\n  <thead>\n    <tr style=\"text-align: right;\">\n      <th></th>\n      <th>Province/State</th>\n      <th>Country/Region</th>\n      <th>Lat</th>\n      <th>Long</th>\n      <th>1/22/20</th>\n      <th>1/23/20</th>\n      <th>1/24/20</th>\n      <th>1/25/20</th>\n      <th>1/26/20</th>\n      <th>1/27/20</th>\n      <th>...</th>\n      <th>2/15/21</th>\n      <th>2/16/21</th>\n      <th>2/17/21</th>\n      <th>2/18/21</th>\n      <th>2/19/21</th>\n      <th>2/20/21</th>\n      <th>2/21/21</th>\n      <th>2/22/21</th>\n      <th>2/23/21</th>\n      <th>2/24/21</th>\n    </tr>\n  </thead>\n  <tbody>\n    <tr>\n      <th>0</th>\n      <td>NaN</td>\n      <td>Afghanistan</td>\n      <td>33.93911</td>\n      <td>67.709953</td>\n      <td>0</td>\n      <td>0</td>\n      <td>0</td>\n      <td>0</td>\n      <td>0</td>\n      <td>0</td>\n      <td>...</td>\n      <td>2427</td>\n      <td>2428</td>\n      <td>2428</td>\n      <td>2430</td>\n      <td>2430</td>\n      <td>2430</td>\n      <td>2432</td>\n      <td>2433</td>\n      <td>2435</td>\n      <td>2436</td>\n    </tr>\n    <tr>\n      <th>1</th>\n      <td>NaN</td>\n      <td>Albania</td>\n      <td>41.15330</td>\n      <td>20.168300</td>\n      <td>0</td>\n      <td>0</td>\n      <td>0</td>\n      <td>0</td>\n      <td>0</td>\n      <td>0</td>\n      <td>...</td>\n      <td>1567</td>\n      <td>1582</td>\n      <td>1600</td>\n      <td>1617</td>\n      <td>1636</td>\n      <td>1653</td>\n      <td>1666</td>\n      <td>1681</td>\n      <td>1696</td>\n      <td>1715</td>\n    </tr>\n    <tr>\n      <th>2</th>\n      <td>NaN</td>\n      <td>Algeria</td>\n      <td>28.03390</td>\n      <td>1.659600</td>\n      <td>0</td>\n      <td>0</td>\n      <td>0</td>\n      <td>0</td>\n      <td>0</td>\n      <td>0</td>\n      <td>...</td>\n      <td>2943</td>\n      <td>2945</td>\n      <td>2947</td>\n      <td>2950</td>\n      <td>2954</td>\n      <td>2958</td>\n      <td>2961</td>\n      <td>2964</td>\n      <td>2967</td>\n      <td>2970</td>\n    </tr>\n    <tr>\n      <th>3</th>\n      <td>NaN</td>\n      <td>Andorra</td>\n      <td>42.50630</td>\n      <td>1.521800</td>\n      <td>0</td>\n      <td>0</td>\n      <td>0</td>\n      <td>0</td>\n      <td>0</td>\n      <td>0</td>\n      <td>...</td>\n      <td>107</td>\n      <td>107</td>\n      <td>107</td>\n      <td>107</td>\n      <td>107</td>\n      <td>107</td>\n      <td>107</td>\n      <td>109</td>\n      <td>110</td>\n      <td>110</td>\n    </tr>\n    <tr>\n      <th>4</th>\n      <td>NaN</td>\n      <td>Angola</td>\n      <td>-11.20270</td>\n      <td>17.873900</td>\n      <td>0</td>\n      <td>0</td>\n      <td>0</td>\n      <td>0</td>\n      <td>0</td>\n      <td>0</td>\n      <td>...</td>\n      <td>493</td>\n      <td>494</td>\n      <td>496</td>\n      <td>498</td>\n      <td>498</td>\n      <td>498</td>\n      <td>499</td>\n      <td>499</td>\n      <td>500</td>\n      <td>501</td>\n    </tr>\n  </tbody>\n</table>\n<p>5 rows × 404 columns</p>\n</div>"
     },
     "metadata": {},
     "execution_count": 6
    }
   ],
   "source": [
    "url_deaths = \"https://raw.githubusercontent.com/CSSEGISandData/COVID-19/master/csse_covid_19_data/csse_covid_19_time_series/time_series_covid19_deaths_global.csv\"\n",
    "deaths = pd.read_csv(url_deaths)\n",
    "deaths.head()"
   ]
  },
  {
   "cell_type": "code",
   "execution_count": 7,
   "metadata": {},
   "outputs": [
    {
     "output_type": "execute_result",
     "data": {
      "text/plain": [
       "  Province/State Country/Region       Lat       Long     date  deaths\n",
       "0            NaN    Afghanistan  33.93911  67.709953  1/22/20       0\n",
       "1            NaN        Albania  41.15330  20.168300  1/22/20       0\n",
       "2            NaN        Algeria  28.03390   1.659600  1/22/20       0\n",
       "3            NaN        Andorra  42.50630   1.521800  1/22/20       0\n",
       "4            NaN         Angola -11.20270  17.873900  1/22/20       0"
      ],
      "text/html": "<div>\n<style scoped>\n    .dataframe tbody tr th:only-of-type {\n        vertical-align: middle;\n    }\n\n    .dataframe tbody tr th {\n        vertical-align: top;\n    }\n\n    .dataframe thead th {\n        text-align: right;\n    }\n</style>\n<table border=\"1\" class=\"dataframe\">\n  <thead>\n    <tr style=\"text-align: right;\">\n      <th></th>\n      <th>Province/State</th>\n      <th>Country/Region</th>\n      <th>Lat</th>\n      <th>Long</th>\n      <th>date</th>\n      <th>deaths</th>\n    </tr>\n  </thead>\n  <tbody>\n    <tr>\n      <th>0</th>\n      <td>NaN</td>\n      <td>Afghanistan</td>\n      <td>33.93911</td>\n      <td>67.709953</td>\n      <td>1/22/20</td>\n      <td>0</td>\n    </tr>\n    <tr>\n      <th>1</th>\n      <td>NaN</td>\n      <td>Albania</td>\n      <td>41.15330</td>\n      <td>20.168300</td>\n      <td>1/22/20</td>\n      <td>0</td>\n    </tr>\n    <tr>\n      <th>2</th>\n      <td>NaN</td>\n      <td>Algeria</td>\n      <td>28.03390</td>\n      <td>1.659600</td>\n      <td>1/22/20</td>\n      <td>0</td>\n    </tr>\n    <tr>\n      <th>3</th>\n      <td>NaN</td>\n      <td>Andorra</td>\n      <td>42.50630</td>\n      <td>1.521800</td>\n      <td>1/22/20</td>\n      <td>0</td>\n    </tr>\n    <tr>\n      <th>4</th>\n      <td>NaN</td>\n      <td>Angola</td>\n      <td>-11.20270</td>\n      <td>17.873900</td>\n      <td>1/22/20</td>\n      <td>0</td>\n    </tr>\n  </tbody>\n</table>\n</div>"
     },
     "metadata": {},
     "execution_count": 7
    }
   ],
   "source": [
    "total_deaths = deaths.melt(\n",
    "    id_vars = [\"Province/State\", \"Country/Region\", \"Lat\", \"Long\"],\n",
    "    value_vars = deaths.columns[4:],\n",
    "    var_name = \"date\",\n",
    "    value_name = \"deaths\"\n",
    ")\n",
    "total_deaths.head()"
   ]
  },
  {
   "source": [
    "## Recovered cases"
   ],
   "cell_type": "markdown",
   "metadata": {}
  },
  {
   "cell_type": "code",
   "execution_count": 8,
   "metadata": {},
   "outputs": [
    {
     "output_type": "execute_result",
     "data": {
      "text/plain": [
       "  Province/State Country/Region       Lat       Long  1/22/20  1/23/20  \\\n",
       "0            NaN    Afghanistan  33.93911  67.709953        0        0   \n",
       "1            NaN        Albania  41.15330  20.168300        0        0   \n",
       "2            NaN        Algeria  28.03390   1.659600        0        0   \n",
       "3            NaN        Andorra  42.50630   1.521800        0        0   \n",
       "4            NaN         Angola -11.20270  17.873900        0        0   \n",
       "\n",
       "   1/24/20  1/25/20  1/26/20  1/27/20  ...  2/15/21  2/16/21  2/17/21  \\\n",
       "0        0        0        0        0  ...    48433    48514    48626   \n",
       "1        0        0        0        0  ...    57736    58794    59684   \n",
       "2        0        0        0        0  ...    76168    76330    76489   \n",
       "3        0        0        0        0  ...     9965    10022    10066   \n",
       "4        0        0        0        0  ...    18884    18929    18951   \n",
       "\n",
       "   2/18/21  2/19/21  2/20/21  2/21/21  2/22/21  2/23/21  2/24/21  \n",
       "0    48798    48803    48820    48834    48895    48967    49086  \n",
       "1    60675    61605    62533    63329    64318    65403    66309  \n",
       "2    76640    76797    76940    77076    77225    77382    77537  \n",
       "3    10101    10146    10170    10206    10245    10285    10319  \n",
       "4    18972    18991    19005    19013    19190    19207    19221  \n",
       "\n",
       "[5 rows x 404 columns]"
      ],
      "text/html": "<div>\n<style scoped>\n    .dataframe tbody tr th:only-of-type {\n        vertical-align: middle;\n    }\n\n    .dataframe tbody tr th {\n        vertical-align: top;\n    }\n\n    .dataframe thead th {\n        text-align: right;\n    }\n</style>\n<table border=\"1\" class=\"dataframe\">\n  <thead>\n    <tr style=\"text-align: right;\">\n      <th></th>\n      <th>Province/State</th>\n      <th>Country/Region</th>\n      <th>Lat</th>\n      <th>Long</th>\n      <th>1/22/20</th>\n      <th>1/23/20</th>\n      <th>1/24/20</th>\n      <th>1/25/20</th>\n      <th>1/26/20</th>\n      <th>1/27/20</th>\n      <th>...</th>\n      <th>2/15/21</th>\n      <th>2/16/21</th>\n      <th>2/17/21</th>\n      <th>2/18/21</th>\n      <th>2/19/21</th>\n      <th>2/20/21</th>\n      <th>2/21/21</th>\n      <th>2/22/21</th>\n      <th>2/23/21</th>\n      <th>2/24/21</th>\n    </tr>\n  </thead>\n  <tbody>\n    <tr>\n      <th>0</th>\n      <td>NaN</td>\n      <td>Afghanistan</td>\n      <td>33.93911</td>\n      <td>67.709953</td>\n      <td>0</td>\n      <td>0</td>\n      <td>0</td>\n      <td>0</td>\n      <td>0</td>\n      <td>0</td>\n      <td>...</td>\n      <td>48433</td>\n      <td>48514</td>\n      <td>48626</td>\n      <td>48798</td>\n      <td>48803</td>\n      <td>48820</td>\n      <td>48834</td>\n      <td>48895</td>\n      <td>48967</td>\n      <td>49086</td>\n    </tr>\n    <tr>\n      <th>1</th>\n      <td>NaN</td>\n      <td>Albania</td>\n      <td>41.15330</td>\n      <td>20.168300</td>\n      <td>0</td>\n      <td>0</td>\n      <td>0</td>\n      <td>0</td>\n      <td>0</td>\n      <td>0</td>\n      <td>...</td>\n      <td>57736</td>\n      <td>58794</td>\n      <td>59684</td>\n      <td>60675</td>\n      <td>61605</td>\n      <td>62533</td>\n      <td>63329</td>\n      <td>64318</td>\n      <td>65403</td>\n      <td>66309</td>\n    </tr>\n    <tr>\n      <th>2</th>\n      <td>NaN</td>\n      <td>Algeria</td>\n      <td>28.03390</td>\n      <td>1.659600</td>\n      <td>0</td>\n      <td>0</td>\n      <td>0</td>\n      <td>0</td>\n      <td>0</td>\n      <td>0</td>\n      <td>...</td>\n      <td>76168</td>\n      <td>76330</td>\n      <td>76489</td>\n      <td>76640</td>\n      <td>76797</td>\n      <td>76940</td>\n      <td>77076</td>\n      <td>77225</td>\n      <td>77382</td>\n      <td>77537</td>\n    </tr>\n    <tr>\n      <th>3</th>\n      <td>NaN</td>\n      <td>Andorra</td>\n      <td>42.50630</td>\n      <td>1.521800</td>\n      <td>0</td>\n      <td>0</td>\n      <td>0</td>\n      <td>0</td>\n      <td>0</td>\n      <td>0</td>\n      <td>...</td>\n      <td>9965</td>\n      <td>10022</td>\n      <td>10066</td>\n      <td>10101</td>\n      <td>10146</td>\n      <td>10170</td>\n      <td>10206</td>\n      <td>10245</td>\n      <td>10285</td>\n      <td>10319</td>\n    </tr>\n    <tr>\n      <th>4</th>\n      <td>NaN</td>\n      <td>Angola</td>\n      <td>-11.20270</td>\n      <td>17.873900</td>\n      <td>0</td>\n      <td>0</td>\n      <td>0</td>\n      <td>0</td>\n      <td>0</td>\n      <td>0</td>\n      <td>...</td>\n      <td>18884</td>\n      <td>18929</td>\n      <td>18951</td>\n      <td>18972</td>\n      <td>18991</td>\n      <td>19005</td>\n      <td>19013</td>\n      <td>19190</td>\n      <td>19207</td>\n      <td>19221</td>\n    </tr>\n  </tbody>\n</table>\n<p>5 rows × 404 columns</p>\n</div>"
     },
     "metadata": {},
     "execution_count": 8
    }
   ],
   "source": [
    "url_recovered = \"https://raw.githubusercontent.com/CSSEGISandData/COVID-19/master/csse_covid_19_data/csse_covid_19_time_series/time_series_covid19_recovered_global.csv\"\n",
    "recovered = pd.read_csv(url_recovered)\n",
    "recovered.head()"
   ]
  },
  {
   "cell_type": "code",
   "execution_count": 9,
   "metadata": {},
   "outputs": [
    {
     "output_type": "execute_result",
     "data": {
      "text/plain": [
       "  Province/State Country/Region       Lat       Long     date  recovered\n",
       "0            NaN    Afghanistan  33.93911  67.709953  1/22/20          0\n",
       "1            NaN        Albania  41.15330  20.168300  1/22/20          0\n",
       "2            NaN        Algeria  28.03390   1.659600  1/22/20          0\n",
       "3            NaN        Andorra  42.50630   1.521800  1/22/20          0\n",
       "4            NaN         Angola -11.20270  17.873900  1/22/20          0"
      ],
      "text/html": "<div>\n<style scoped>\n    .dataframe tbody tr th:only-of-type {\n        vertical-align: middle;\n    }\n\n    .dataframe tbody tr th {\n        vertical-align: top;\n    }\n\n    .dataframe thead th {\n        text-align: right;\n    }\n</style>\n<table border=\"1\" class=\"dataframe\">\n  <thead>\n    <tr style=\"text-align: right;\">\n      <th></th>\n      <th>Province/State</th>\n      <th>Country/Region</th>\n      <th>Lat</th>\n      <th>Long</th>\n      <th>date</th>\n      <th>recovered</th>\n    </tr>\n  </thead>\n  <tbody>\n    <tr>\n      <th>0</th>\n      <td>NaN</td>\n      <td>Afghanistan</td>\n      <td>33.93911</td>\n      <td>67.709953</td>\n      <td>1/22/20</td>\n      <td>0</td>\n    </tr>\n    <tr>\n      <th>1</th>\n      <td>NaN</td>\n      <td>Albania</td>\n      <td>41.15330</td>\n      <td>20.168300</td>\n      <td>1/22/20</td>\n      <td>0</td>\n    </tr>\n    <tr>\n      <th>2</th>\n      <td>NaN</td>\n      <td>Algeria</td>\n      <td>28.03390</td>\n      <td>1.659600</td>\n      <td>1/22/20</td>\n      <td>0</td>\n    </tr>\n    <tr>\n      <th>3</th>\n      <td>NaN</td>\n      <td>Andorra</td>\n      <td>42.50630</td>\n      <td>1.521800</td>\n      <td>1/22/20</td>\n      <td>0</td>\n    </tr>\n    <tr>\n      <th>4</th>\n      <td>NaN</td>\n      <td>Angola</td>\n      <td>-11.20270</td>\n      <td>17.873900</td>\n      <td>1/22/20</td>\n      <td>0</td>\n    </tr>\n  </tbody>\n</table>\n</div>"
     },
     "metadata": {},
     "execution_count": 9
    }
   ],
   "source": [
    "total_recovered = recovered.melt(\n",
    "    id_vars = [\"Province/State\", \"Country/Region\", \"Lat\", \"Long\"],\n",
    "    value_vars = recovered.columns[4:],\n",
    "    var_name = \"date\",\n",
    "    value_name = \"recovered\"\n",
    ")\n",
    "total_recovered.head()"
   ]
  },
  {
   "source": [
    "## Merge data frames"
   ],
   "cell_type": "markdown",
   "metadata": {}
  },
  {
   "cell_type": "code",
   "execution_count": 10,
   "metadata": {},
   "outputs": [
    {
     "output_type": "execute_result",
     "data": {
      "text/plain": [
       "  Province/State Country/Region       Lat       Long     date  confirmed  \\\n",
       "0            NaN    Afghanistan  33.93911  67.709953  1/22/20          0   \n",
       "1            NaN        Albania  41.15330  20.168300  1/22/20          0   \n",
       "2            NaN        Algeria  28.03390   1.659600  1/22/20          0   \n",
       "3            NaN        Andorra  42.50630   1.521800  1/22/20          0   \n",
       "4            NaN         Angola -11.20270  17.873900  1/22/20          0   \n",
       "\n",
       "   deaths  recovered  \n",
       "0       0        0.0  \n",
       "1       0        0.0  \n",
       "2       0        0.0  \n",
       "3       0        0.0  \n",
       "4       0        0.0  "
      ],
      "text/html": "<div>\n<style scoped>\n    .dataframe tbody tr th:only-of-type {\n        vertical-align: middle;\n    }\n\n    .dataframe tbody tr th {\n        vertical-align: top;\n    }\n\n    .dataframe thead th {\n        text-align: right;\n    }\n</style>\n<table border=\"1\" class=\"dataframe\">\n  <thead>\n    <tr style=\"text-align: right;\">\n      <th></th>\n      <th>Province/State</th>\n      <th>Country/Region</th>\n      <th>Lat</th>\n      <th>Long</th>\n      <th>date</th>\n      <th>confirmed</th>\n      <th>deaths</th>\n      <th>recovered</th>\n    </tr>\n  </thead>\n  <tbody>\n    <tr>\n      <th>0</th>\n      <td>NaN</td>\n      <td>Afghanistan</td>\n      <td>33.93911</td>\n      <td>67.709953</td>\n      <td>1/22/20</td>\n      <td>0</td>\n      <td>0</td>\n      <td>0.0</td>\n    </tr>\n    <tr>\n      <th>1</th>\n      <td>NaN</td>\n      <td>Albania</td>\n      <td>41.15330</td>\n      <td>20.168300</td>\n      <td>1/22/20</td>\n      <td>0</td>\n      <td>0</td>\n      <td>0.0</td>\n    </tr>\n    <tr>\n      <th>2</th>\n      <td>NaN</td>\n      <td>Algeria</td>\n      <td>28.03390</td>\n      <td>1.659600</td>\n      <td>1/22/20</td>\n      <td>0</td>\n      <td>0</td>\n      <td>0.0</td>\n    </tr>\n    <tr>\n      <th>3</th>\n      <td>NaN</td>\n      <td>Andorra</td>\n      <td>42.50630</td>\n      <td>1.521800</td>\n      <td>1/22/20</td>\n      <td>0</td>\n      <td>0</td>\n      <td>0.0</td>\n    </tr>\n    <tr>\n      <th>4</th>\n      <td>NaN</td>\n      <td>Angola</td>\n      <td>-11.20270</td>\n      <td>17.873900</td>\n      <td>1/22/20</td>\n      <td>0</td>\n      <td>0</td>\n      <td>0.0</td>\n    </tr>\n  </tbody>\n</table>\n</div>"
     },
     "metadata": {},
     "execution_count": 10
    }
   ],
   "source": [
    "covid_data = total_confirmed.merge(\n",
    "    right = total_deaths,\n",
    "    how = \"left\",\n",
    "    on = [\"Province/State\", \"Country/Region\", \"date\", \"Lat\", \"Long\"]\n",
    ").merge(\n",
    "    right = total_recovered,\n",
    "    how = \"left\",\n",
    "    on = [\"Province/State\", \"Country/Region\", \"date\", \"Lat\", \"Long\"]\n",
    ")\n",
    "covid_data.head()"
   ]
  },
  {
   "source": [
    "## Parse date"
   ],
   "cell_type": "markdown",
   "metadata": {}
  },
  {
   "cell_type": "code",
   "execution_count": 11,
   "metadata": {},
   "outputs": [],
   "source": [
    "covid_data[\"date\"] = pd.to_datetime(covid_data[\"date\"])"
   ]
  },
  {
   "source": [
    "## NaNs"
   ],
   "cell_type": "markdown",
   "metadata": {}
  },
  {
   "cell_type": "code",
   "execution_count": 12,
   "metadata": {},
   "outputs": [
    {
     "output_type": "execute_result",
     "data": {
      "text/plain": [
       "Province/State    75600\n",
       "Country/Region        0\n",
       "Lat                 400\n",
       "Long                400\n",
       "date                  0\n",
       "confirmed             0\n",
       "deaths                0\n",
       "recovered          8400\n",
       "dtype: int64"
      ]
     },
     "metadata": {},
     "execution_count": 12
    }
   ],
   "source": [
    "covid_data.isna().sum()"
   ]
  },
  {
   "cell_type": "code",
   "execution_count": 13,
   "metadata": {},
   "outputs": [
    {
     "output_type": "execute_result",
     "data": {
      "text/plain": [
       "Province/State    75600\n",
       "Country/Region        0\n",
       "Lat                 400\n",
       "Long                400\n",
       "date                  0\n",
       "confirmed             0\n",
       "deaths                0\n",
       "recovered             0\n",
       "dtype: int64"
      ]
     },
     "metadata": {},
     "execution_count": 13
    }
   ],
   "source": [
    "covid_data[\"recovered\"] = covid_data[\"recovered\"].fillna(0)\n",
    "covid_data.isna().sum()"
   ]
  },
  {
   "source": [
    "## Active cases"
   ],
   "cell_type": "markdown",
   "metadata": {}
  },
  {
   "cell_type": "code",
   "execution_count": 14,
   "metadata": {},
   "outputs": [
    {
     "output_type": "execute_result",
     "data": {
      "text/plain": [
       "  Province/State Country/Region       Lat       Long       date  confirmed  \\\n",
       "0            NaN    Afghanistan  33.93911  67.709953 2020-01-22          0   \n",
       "1            NaN        Albania  41.15330  20.168300 2020-01-22          0   \n",
       "2            NaN        Algeria  28.03390   1.659600 2020-01-22          0   \n",
       "3            NaN        Andorra  42.50630   1.521800 2020-01-22          0   \n",
       "4            NaN         Angola -11.20270  17.873900 2020-01-22          0   \n",
       "\n",
       "   deaths  recovered  active  \n",
       "0       0        0.0     0.0  \n",
       "1       0        0.0     0.0  \n",
       "2       0        0.0     0.0  \n",
       "3       0        0.0     0.0  \n",
       "4       0        0.0     0.0  "
      ],
      "text/html": "<div>\n<style scoped>\n    .dataframe tbody tr th:only-of-type {\n        vertical-align: middle;\n    }\n\n    .dataframe tbody tr th {\n        vertical-align: top;\n    }\n\n    .dataframe thead th {\n        text-align: right;\n    }\n</style>\n<table border=\"1\" class=\"dataframe\">\n  <thead>\n    <tr style=\"text-align: right;\">\n      <th></th>\n      <th>Province/State</th>\n      <th>Country/Region</th>\n      <th>Lat</th>\n      <th>Long</th>\n      <th>date</th>\n      <th>confirmed</th>\n      <th>deaths</th>\n      <th>recovered</th>\n      <th>active</th>\n    </tr>\n  </thead>\n  <tbody>\n    <tr>\n      <th>0</th>\n      <td>NaN</td>\n      <td>Afghanistan</td>\n      <td>33.93911</td>\n      <td>67.709953</td>\n      <td>2020-01-22</td>\n      <td>0</td>\n      <td>0</td>\n      <td>0.0</td>\n      <td>0.0</td>\n    </tr>\n    <tr>\n      <th>1</th>\n      <td>NaN</td>\n      <td>Albania</td>\n      <td>41.15330</td>\n      <td>20.168300</td>\n      <td>2020-01-22</td>\n      <td>0</td>\n      <td>0</td>\n      <td>0.0</td>\n      <td>0.0</td>\n    </tr>\n    <tr>\n      <th>2</th>\n      <td>NaN</td>\n      <td>Algeria</td>\n      <td>28.03390</td>\n      <td>1.659600</td>\n      <td>2020-01-22</td>\n      <td>0</td>\n      <td>0</td>\n      <td>0.0</td>\n      <td>0.0</td>\n    </tr>\n    <tr>\n      <th>3</th>\n      <td>NaN</td>\n      <td>Andorra</td>\n      <td>42.50630</td>\n      <td>1.521800</td>\n      <td>2020-01-22</td>\n      <td>0</td>\n      <td>0</td>\n      <td>0.0</td>\n      <td>0.0</td>\n    </tr>\n    <tr>\n      <th>4</th>\n      <td>NaN</td>\n      <td>Angola</td>\n      <td>-11.20270</td>\n      <td>17.873900</td>\n      <td>2020-01-22</td>\n      <td>0</td>\n      <td>0</td>\n      <td>0.0</td>\n      <td>0.0</td>\n    </tr>\n  </tbody>\n</table>\n</div>"
     },
     "metadata": {},
     "execution_count": 14
    }
   ],
   "source": [
    "covid_data[\"active\"] = covid_data[\"confirmed\"] - covid_data[\"deaths\"] - covid_data[\"recovered\"]\n",
    "covid_data.head()"
   ]
  },
  {
   "source": [
    "## Get last updated date"
   ],
   "cell_type": "markdown",
   "metadata": {}
  },
  {
   "cell_type": "code",
   "execution_count": 15,
   "metadata": {},
   "outputs": [
    {
     "output_type": "execute_result",
     "data": {
      "text/plain": [
       "109595   2021-02-24\n",
       "109596   2021-02-24\n",
       "109597   2021-02-24\n",
       "109598   2021-02-24\n",
       "109599   2021-02-24\n",
       "Name: date, dtype: datetime64[ns]"
      ]
     },
     "metadata": {},
     "execution_count": 15
    }
   ],
   "source": [
    "covid_data[\"date\"].tail()"
   ]
  },
  {
   "cell_type": "code",
   "execution_count": 16,
   "metadata": {},
   "outputs": [
    {
     "output_type": "execute_result",
     "data": {
      "text/plain": [
       "'February 24, 2021'"
      ]
     },
     "metadata": {},
     "execution_count": 16
    }
   ],
   "source": [
    "covid_data[\"date\"].iloc[-1].strftime(\"%B %d, %Y\")"
   ]
  },
  {
   "source": [
    "## Total confirmed cases"
   ],
   "cell_type": "markdown",
   "metadata": {}
  },
  {
   "cell_type": "code",
   "execution_count": 17,
   "metadata": {},
   "outputs": [
    {
     "output_type": "execute_result",
     "data": {
      "text/plain": [
       "        date  confirmed  deaths  recovered  active\n",
       "0 2020-01-22        557      17       30.0   510.0\n",
       "1 2020-01-23        655      18       32.0   605.0\n",
       "2 2020-01-24        941      26       39.0   876.0\n",
       "3 2020-01-25       1433      42       42.0  1349.0\n",
       "4 2020-01-26       2118      56       56.0  2006.0"
      ],
      "text/html": "<div>\n<style scoped>\n    .dataframe tbody tr th:only-of-type {\n        vertical-align: middle;\n    }\n\n    .dataframe tbody tr th {\n        vertical-align: top;\n    }\n\n    .dataframe thead th {\n        text-align: right;\n    }\n</style>\n<table border=\"1\" class=\"dataframe\">\n  <thead>\n    <tr style=\"text-align: right;\">\n      <th></th>\n      <th>date</th>\n      <th>confirmed</th>\n      <th>deaths</th>\n      <th>recovered</th>\n      <th>active</th>\n    </tr>\n  </thead>\n  <tbody>\n    <tr>\n      <th>0</th>\n      <td>2020-01-22</td>\n      <td>557</td>\n      <td>17</td>\n      <td>30.0</td>\n      <td>510.0</td>\n    </tr>\n    <tr>\n      <th>1</th>\n      <td>2020-01-23</td>\n      <td>655</td>\n      <td>18</td>\n      <td>32.0</td>\n      <td>605.0</td>\n    </tr>\n    <tr>\n      <th>2</th>\n      <td>2020-01-24</td>\n      <td>941</td>\n      <td>26</td>\n      <td>39.0</td>\n      <td>876.0</td>\n    </tr>\n    <tr>\n      <th>3</th>\n      <td>2020-01-25</td>\n      <td>1433</td>\n      <td>42</td>\n      <td>42.0</td>\n      <td>1349.0</td>\n    </tr>\n    <tr>\n      <th>4</th>\n      <td>2020-01-26</td>\n      <td>2118</td>\n      <td>56</td>\n      <td>56.0</td>\n      <td>2006.0</td>\n    </tr>\n  </tbody>\n</table>\n</div>"
     },
     "metadata": {},
     "execution_count": 17
    }
   ],
   "source": [
    "covid_data_1 = covid_data.groupby([\"date\"])[[\"confirmed\", \"deaths\", \"recovered\", \"active\"]].sum().reset_index()\n",
    "covid_data_1.head()"
   ]
  },
  {
   "cell_type": "code",
   "execution_count": 18,
   "metadata": {},
   "outputs": [
    {
     "output_type": "execute_result",
     "data": {
      "text/plain": [
       "112554301"
      ]
     },
     "metadata": {},
     "execution_count": 18
    }
   ],
   "source": [
    "covid_data_1[\"confirmed\"].iloc[-1]"
   ]
  },
  {
   "source": [
    "## Shift values"
   ],
   "cell_type": "markdown",
   "metadata": {}
  },
  {
   "cell_type": "code",
   "execution_count": 20,
   "metadata": {},
   "outputs": [
    {
     "output_type": "execute_result",
     "data": {
      "text/plain": [
       "     index Country/Region       date  confirmed  daily_confirmed\n",
       "0      183        Uruguay 2020-01-22          0              NaN\n",
       "1      375        Uruguay 2020-01-23          0              0.0\n",
       "2      567        Uruguay 2020-01-24          0              0.0\n",
       "3      759        Uruguay 2020-01-25          0              0.0\n",
       "4      951        Uruguay 2020-01-26          0              0.0\n",
       "..     ...            ...        ...        ...              ...\n",
       "395  76023        Uruguay 2021-02-20      52163            786.0\n",
       "396  76215        Uruguay 2021-02-21      52815            652.0\n",
       "397  76407        Uruguay 2021-02-22      53310            495.0\n",
       "398  76599        Uruguay 2021-02-23      53973            663.0\n",
       "399  76791        Uruguay 2021-02-24      54874            901.0\n",
       "\n",
       "[400 rows x 5 columns]"
      ],
      "text/html": "<div>\n<style scoped>\n    .dataframe tbody tr th:only-of-type {\n        vertical-align: middle;\n    }\n\n    .dataframe tbody tr th {\n        vertical-align: top;\n    }\n\n    .dataframe thead th {\n        text-align: right;\n    }\n</style>\n<table border=\"1\" class=\"dataframe\">\n  <thead>\n    <tr style=\"text-align: right;\">\n      <th></th>\n      <th>index</th>\n      <th>Country/Region</th>\n      <th>date</th>\n      <th>confirmed</th>\n      <th>daily_confirmed</th>\n    </tr>\n  </thead>\n  <tbody>\n    <tr>\n      <th>0</th>\n      <td>183</td>\n      <td>Uruguay</td>\n      <td>2020-01-22</td>\n      <td>0</td>\n      <td>NaN</td>\n    </tr>\n    <tr>\n      <th>1</th>\n      <td>375</td>\n      <td>Uruguay</td>\n      <td>2020-01-23</td>\n      <td>0</td>\n      <td>0.0</td>\n    </tr>\n    <tr>\n      <th>2</th>\n      <td>567</td>\n      <td>Uruguay</td>\n      <td>2020-01-24</td>\n      <td>0</td>\n      <td>0.0</td>\n    </tr>\n    <tr>\n      <th>3</th>\n      <td>759</td>\n      <td>Uruguay</td>\n      <td>2020-01-25</td>\n      <td>0</td>\n      <td>0.0</td>\n    </tr>\n    <tr>\n      <th>4</th>\n      <td>951</td>\n      <td>Uruguay</td>\n      <td>2020-01-26</td>\n      <td>0</td>\n      <td>0.0</td>\n    </tr>\n    <tr>\n      <th>...</th>\n      <td>...</td>\n      <td>...</td>\n      <td>...</td>\n      <td>...</td>\n      <td>...</td>\n    </tr>\n    <tr>\n      <th>395</th>\n      <td>76023</td>\n      <td>Uruguay</td>\n      <td>2021-02-20</td>\n      <td>52163</td>\n      <td>786.0</td>\n    </tr>\n    <tr>\n      <th>396</th>\n      <td>76215</td>\n      <td>Uruguay</td>\n      <td>2021-02-21</td>\n      <td>52815</td>\n      <td>652.0</td>\n    </tr>\n    <tr>\n      <th>397</th>\n      <td>76407</td>\n      <td>Uruguay</td>\n      <td>2021-02-22</td>\n      <td>53310</td>\n      <td>495.0</td>\n    </tr>\n    <tr>\n      <th>398</th>\n      <td>76599</td>\n      <td>Uruguay</td>\n      <td>2021-02-23</td>\n      <td>53973</td>\n      <td>663.0</td>\n    </tr>\n    <tr>\n      <th>399</th>\n      <td>76791</td>\n      <td>Uruguay</td>\n      <td>2021-02-24</td>\n      <td>54874</td>\n      <td>901.0</td>\n    </tr>\n  </tbody>\n</table>\n<p>400 rows × 5 columns</p>\n</div>"
     },
     "metadata": {},
     "execution_count": 20
    }
   ],
   "source": [
    "covid_data_2 = covid_data.groupby([\"date\", \"Country/Region\"])[[\"confirmed\", \"deaths\", \"recovered\", \"active\"]].sum().reset_index()\n",
    "covid_data_3 = covid_data_2[covid_data_2[\"Country/Region\"] == \"Uruguay\"][[\"Country/Region\", \"date\", \"confirmed\"]].reset_index()\n",
    "covid_data_3[\"daily_confirmed\"] = covid_data_3[\"confirmed\"] - covid_data_3[\"confirmed\"].shift(1)\n",
    "covid_data_3"
   ]
  },
  {
   "source": [
    "## Rolling avg"
   ],
   "cell_type": "markdown",
   "metadata": {}
  },
  {
   "cell_type": "code",
   "execution_count": 22,
   "metadata": {},
   "outputs": [
    {
     "output_type": "execute_result",
     "data": {
      "text/plain": [
       "     index Country/Region       date  confirmed  daily_confirmed  rolling_avg\n",
       "0      183        Uruguay 2020-01-22          0              NaN          NaN\n",
       "1      375        Uruguay 2020-01-23          0              0.0          NaN\n",
       "2      567        Uruguay 2020-01-24          0              0.0          NaN\n",
       "3      759        Uruguay 2020-01-25          0              0.0          NaN\n",
       "4      951        Uruguay 2020-01-26          0              0.0          NaN\n",
       "..     ...            ...        ...        ...              ...          ...\n",
       "395  76023        Uruguay 2021-02-20      52163            786.0   529.142857\n",
       "396  76215        Uruguay 2021-02-21      52815            652.0   558.000000\n",
       "397  76407        Uruguay 2021-02-22      53310            495.0   564.285714\n",
       "398  76599        Uruguay 2021-02-23      53973            663.0   606.857143\n",
       "399  76791        Uruguay 2021-02-24      54874            901.0   666.571429\n",
       "\n",
       "[400 rows x 6 columns]"
      ],
      "text/html": "<div>\n<style scoped>\n    .dataframe tbody tr th:only-of-type {\n        vertical-align: middle;\n    }\n\n    .dataframe tbody tr th {\n        vertical-align: top;\n    }\n\n    .dataframe thead th {\n        text-align: right;\n    }\n</style>\n<table border=\"1\" class=\"dataframe\">\n  <thead>\n    <tr style=\"text-align: right;\">\n      <th></th>\n      <th>index</th>\n      <th>Country/Region</th>\n      <th>date</th>\n      <th>confirmed</th>\n      <th>daily_confirmed</th>\n      <th>rolling_avg</th>\n    </tr>\n  </thead>\n  <tbody>\n    <tr>\n      <th>0</th>\n      <td>183</td>\n      <td>Uruguay</td>\n      <td>2020-01-22</td>\n      <td>0</td>\n      <td>NaN</td>\n      <td>NaN</td>\n    </tr>\n    <tr>\n      <th>1</th>\n      <td>375</td>\n      <td>Uruguay</td>\n      <td>2020-01-23</td>\n      <td>0</td>\n      <td>0.0</td>\n      <td>NaN</td>\n    </tr>\n    <tr>\n      <th>2</th>\n      <td>567</td>\n      <td>Uruguay</td>\n      <td>2020-01-24</td>\n      <td>0</td>\n      <td>0.0</td>\n      <td>NaN</td>\n    </tr>\n    <tr>\n      <th>3</th>\n      <td>759</td>\n      <td>Uruguay</td>\n      <td>2020-01-25</td>\n      <td>0</td>\n      <td>0.0</td>\n      <td>NaN</td>\n    </tr>\n    <tr>\n      <th>4</th>\n      <td>951</td>\n      <td>Uruguay</td>\n      <td>2020-01-26</td>\n      <td>0</td>\n      <td>0.0</td>\n      <td>NaN</td>\n    </tr>\n    <tr>\n      <th>...</th>\n      <td>...</td>\n      <td>...</td>\n      <td>...</td>\n      <td>...</td>\n      <td>...</td>\n      <td>...</td>\n    </tr>\n    <tr>\n      <th>395</th>\n      <td>76023</td>\n      <td>Uruguay</td>\n      <td>2021-02-20</td>\n      <td>52163</td>\n      <td>786.0</td>\n      <td>529.142857</td>\n    </tr>\n    <tr>\n      <th>396</th>\n      <td>76215</td>\n      <td>Uruguay</td>\n      <td>2021-02-21</td>\n      <td>52815</td>\n      <td>652.0</td>\n      <td>558.000000</td>\n    </tr>\n    <tr>\n      <th>397</th>\n      <td>76407</td>\n      <td>Uruguay</td>\n      <td>2021-02-22</td>\n      <td>53310</td>\n      <td>495.0</td>\n      <td>564.285714</td>\n    </tr>\n    <tr>\n      <th>398</th>\n      <td>76599</td>\n      <td>Uruguay</td>\n      <td>2021-02-23</td>\n      <td>53973</td>\n      <td>663.0</td>\n      <td>606.857143</td>\n    </tr>\n    <tr>\n      <th>399</th>\n      <td>76791</td>\n      <td>Uruguay</td>\n      <td>2021-02-24</td>\n      <td>54874</td>\n      <td>901.0</td>\n      <td>666.571429</td>\n    </tr>\n  </tbody>\n</table>\n<p>400 rows × 6 columns</p>\n</div>"
     },
     "metadata": {},
     "execution_count": 22
    }
   ],
   "source": [
    "covid_data_3[\"rolling_avg\"] = covid_data_3[\"daily_confirmed\"].rolling(window = 7).mean()\n",
    "covid_data_3"
   ]
  },
  {
   "source": [
    "## Add lat and long"
   ],
   "cell_type": "markdown",
   "metadata": {}
  },
  {
   "cell_type": "code",
   "execution_count": null,
   "metadata": {},
   "outputs": [],
   "source": [
    "covid_data_4 = covid_data.groupby([\"Lat\", \"Long\", \"Country/Region\"])[[\"confirmed\", \"deaths\", \"recovered\", \"active\"]].sum().reset_index()"
   ]
  }
 ]
}